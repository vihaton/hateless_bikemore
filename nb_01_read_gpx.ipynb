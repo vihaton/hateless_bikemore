{
 "cells": [
  {
   "cell_type": "code",
   "execution_count": null,
   "metadata": {},
   "outputs": [],
   "source": [
    "import os\n",
    "\n",
    "import cartopy.crs as ccrs\n",
    "import gpxpy\n",
    "import gpxpy.gpx\n",
    "\n",
    "from bs4 import BeautifulSoup as bs\n",
    "\n",
    "import matplotlib.pyplot as plt\n",
    "%matplotlib inline\n"
   ]
  },
  {
   "cell_type": "code",
   "execution_count": null,
   "metadata": {},
   "outputs": [],
   "source": [
    "data_dir = './data/'\n",
    "save_figs = False\n",
    "output_dir = './outputs/'"
   ]
  },
  {
   "cell_type": "code",
   "execution_count": null,
   "metadata": {},
   "outputs": [],
   "source": [
    "def get_files_in_dir(directory, return_dirs=False, verbose=False):\n",
    "    if not os.path.exists(directory):\n",
    "        raise Exception(f\"{directory} does not exist!\")\n",
    "    files, dirs = None, None\n",
    "    for (path, dirs, files) in os.walk(directory):\n",
    "        if verbose:\n",
    "            print(\"path: \", path)\n",
    "            print(\"dirs\", dirs)\n",
    "            print(\"files\")\n",
    "            for i, file in enumerate(files):\n",
    "                print(\"\\t\", i, file)\n",
    "        break\n",
    "    return files if not return_dirs else (files, dirs)"
   ]
  },
  {
   "cell_type": "code",
   "execution_count": null,
   "metadata": {},
   "outputs": [],
   "source": [
    "files = get_files_in_dir(data_dir)\n",
    "files = [f for f in files if '.gpx' in f[-4:]]\n",
    "files"
   ]
  },
  {
   "cell_type": "code",
   "execution_count": null,
   "metadata": {},
   "outputs": [],
   "source": [
    "stepkeys = [f[f.find('.')-2:-4].strip()\n",
    "            .split(' ')[0]\n",
    "            for f in files]\n",
    "step2file_long = {\n",
    "    k: f for k, f in zip(stepkeys, files)\n",
    "}\n",
    "\n",
    "step2file_long\n"
   ]
  },
  {
   "cell_type": "code",
   "execution_count": null,
   "metadata": {},
   "outputs": [],
   "source": [
    "sk = '0.1'\n",
    "step2file_long[sk]"
   ]
  },
  {
   "cell_type": "code",
   "execution_count": null,
   "metadata": {},
   "outputs": [],
   "source": [
    "step2file_long.keys()"
   ]
  },
  {
   "cell_type": "code",
   "execution_count": null,
   "metadata": {},
   "outputs": [],
   "source": [
    "# Drop circle tours in cities, aka not steps\n",
    "step2file = {\n",
    "    k: step2file_long[k] for k in step2file_long if '.' in k\n",
    "}\n",
    "step2file.keys()"
   ]
  },
  {
   "cell_type": "code",
   "execution_count": null,
   "metadata": {},
   "outputs": [],
   "source": [
    "sk = '0.1'\n",
    "step2file[sk]"
   ]
  },
  {
   "cell_type": "code",
   "execution_count": null,
   "metadata": {},
   "outputs": [],
   "source": [
    "len(step2file)"
   ]
  },
  {
   "cell_type": "code",
   "execution_count": null,
   "metadata": {},
   "outputs": [],
   "source": [
    "def load_gpx_file(file_path:str):\n",
    "    if not os.path.exists(file_path):\n",
    "        raise Exception(f\"{file_path} does not exist!\")\n",
    "    with open(file_path, 'r') as fo:\n",
    "        gpx_file = gpxpy.parse(fo)\n",
    "    return gpx_file"
   ]
  },
  {
   "cell_type": "code",
   "execution_count": null,
   "metadata": {},
   "outputs": [],
   "source": [
    "sk = '0.1'\n",
    "gpx_f = load_gpx_file(data_dir + step2file[sk])\n",
    "gpx_f"
   ]
  },
  {
   "cell_type": "code",
   "execution_count": null,
   "metadata": {},
   "outputs": [],
   "source": [
    "# if you wanted to use BeautifulSoup for parsing XML...\n",
    "gpx_content = bs(gpx_f.to_xml(), features='xml')\n",
    "gpx_content.metadata"
   ]
  },
  {
   "cell_type": "code",
   "execution_count": null,
   "metadata": {},
   "outputs": [],
   "source": [
    "step_max = max([\n",
    "    int(k.split('.')[0]) for k in step2file.keys()\n",
    "])\n",
    "step_max"
   ]
  },
  {
   "cell_type": "code",
   "execution_count": null,
   "metadata": {},
   "outputs": [],
   "source": [
    "to_skip = ['16.1'] # 16.1 was within Malaga => no recording"
   ]
  },
  {
   "cell_type": "code",
   "execution_count": null,
   "metadata": {},
   "outputs": [],
   "source": [
    "step = 0\n",
    "step2gpx = {}\n",
    "while step < step_max + 1:\n",
    "    substep = 1\n",
    "    while True:\n",
    "        sk = f\"{step}.{substep}\"\n",
    "\n",
    "        if sk in to_skip:\n",
    "            substep += 1\n",
    "            continue\n",
    "        if sk not in step2file:\n",
    "            break\n",
    "\n",
    "        gpx = load_gpx_file(data_dir + step2file[sk])\n",
    "        step2gpx[sk] = gpx\n",
    "\n",
    "        print(\n",
    "            sk, len(gpx.tracks[0].segments[0].points)\n",
    "        )  # there is one track, inside of it is one segment, inside of which are the points\n",
    "\n",
    "        substep += 1\n",
    "\n",
    "    print(sk)\n",
    "\n",
    "    step += 1\n"
   ]
  },
  {
   "cell_type": "code",
   "execution_count": null,
   "metadata": {},
   "outputs": [],
   "source": [
    "gpx_all = gpxpy.gpx.GPX()\n",
    "gpx_all.name = \"Hateless Bikemore Finland Morocco 2022\"\n",
    "\n",
    "# Create first track in our GPX:\n",
    "gpx_track = gpxpy.gpx.GPXTrack()\n",
    "gpx_all.tracks.append(gpx_track)\n",
    "\n",
    "# add all the segments to our GPX track:\n",
    "step = 0\n",
    "while step < step_max + 1:\n",
    "    substep = 1\n",
    "    while True:\n",
    "        sk = f\"{step}.{substep}\"\n",
    "        if sk in to_skip:\n",
    "            substep += 1\n",
    "            continue\n",
    "        if sk not in step2file:\n",
    "            break\n",
    "\n",
    "        gpx = step2gpx[sk]\n",
    "        gpx_track.segments.append(gpx.tracks[0].segments[0])\n",
    "\n",
    "        substep += 1\n",
    "\n",
    "    print(sk)\n",
    "\n",
    "    step += 1\n"
   ]
  },
  {
   "cell_type": "code",
   "execution_count": null,
   "metadata": {},
   "outputs": [],
   "source": [
    "gpx_all.get_moving_data(raw=False)"
   ]
  },
  {
   "cell_type": "code",
   "execution_count": null,
   "metadata": {},
   "outputs": [],
   "source": [
    "gpx_all.get_uphill_downhill()"
   ]
  },
  {
   "cell_type": "code",
   "execution_count": null,
   "metadata": {},
   "outputs": [],
   "source": [
    "gpx_all.get_points_no()"
   ]
  },
  {
   "cell_type": "code",
   "execution_count": null,
   "metadata": {},
   "outputs": [],
   "source": [
    "gpx_all.get_bounds()"
   ]
  },
  {
   "cell_type": "code",
   "execution_count": null,
   "metadata": {},
   "outputs": [],
   "source": [
    "fname = data_dir + 'processed_gpx/finland_to_morocco_5mon.gpx'\n",
    "with open(fname, 'w') as fo:\n",
    "    fo.write(gpx_all.to_xml())\n",
    "    print('saved concatenated XML file to ', fname)"
   ]
  },
  {
   "cell_type": "code",
   "execution_count": null,
   "metadata": {},
   "outputs": [],
   "source": [
    "import pandas as pd\n",
    "import numpy as np"
   ]
  },
  {
   "cell_type": "code",
   "execution_count": null,
   "metadata": {},
   "outputs": [],
   "source": [
    "points = [\n",
    "    [[p.latitude, p.longitude, p.elevation, p.time] for p in segment.points]\n",
    "    for segment in gpx_all.tracks[0].segments\n",
    "]\n",
    "points = np.concatenate(points)\n",
    "len(points)"
   ]
  },
  {
   "cell_type": "code",
   "execution_count": null,
   "metadata": {},
   "outputs": [],
   "source": [
    "df_all = pd.DataFrame(points, columns=['latitude', 'longitude', 'elevation', 'time'])\n",
    "df_all.head()"
   ]
  },
  {
   "cell_type": "code",
   "execution_count": null,
   "metadata": {},
   "outputs": [],
   "source": [
    "fname = data_dir + 'processed_gpx/finland_to_morocco_5mon.csv'\n",
    "df_all.to_csv(fname)"
   ]
  },
  {
   "cell_type": "code",
   "execution_count": null,
   "metadata": {},
   "outputs": [],
   "source": [
    "\n",
    "import cartopy.crs as ccrs\n",
    "import matplotlib.pyplot as plt\n",
    "\n",
    "ax = plt.axes(projection=ccrs.EuroPP())\n",
    "ax.stock_img()\n",
    "plt.show()\n"
   ]
  },
  {
   "cell_type": "code",
   "execution_count": null,
   "metadata": {},
   "outputs": [],
   "source": [
    "ax = plt.axes(projection=ccrs.PlateCarree())\n",
    "ax.coastlines()\n",
    "\n",
    "plt.show()"
   ]
  },
  {
   "cell_type": "code",
   "execution_count": null,
   "metadata": {},
   "outputs": [],
   "source": []
  }
 ],
 "metadata": {
  "kernelspec": {
   "display_name": "Python 3.9.0 64-bit ('hateless_bikemore-3.9.0')",
   "language": "python",
   "name": "python3"
  },
  "language_info": {
   "codemirror_mode": {
    "name": "ipython",
    "version": 3
   },
   "file_extension": ".py",
   "mimetype": "text/x-python",
   "name": "python",
   "nbconvert_exporter": "python",
   "pygments_lexer": "ipython3",
   "version": "3.9.0"
  },
  "orig_nbformat": 4,
  "vscode": {
   "interpreter": {
    "hash": "3355873eeda116eb7c315d89b5b16c42215e1a472cede6b7661e86e824ba89bd"
   }
  }
 },
 "nbformat": 4,
 "nbformat_minor": 2
}
