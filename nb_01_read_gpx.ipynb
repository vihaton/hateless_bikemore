{
 "cells": [
  {
   "cell_type": "code",
   "execution_count": null,
   "metadata": {},
   "outputs": [],
   "source": [
    "import os\n",
    "\n",
    "import cartopy.crs as ccrs\n",
    "import gpxpy\n",
    "import gpxpy.gpx\n",
    "\n",
    "import matplotlib.pyplot as plt\n",
    "%matplotlib inline\n"
   ]
  },
  {
   "cell_type": "code",
   "execution_count": null,
   "metadata": {},
   "outputs": [],
   "source": [
    "data_dir = './data/'\n",
    "save_figs = False\n",
    "output_dir = './outputs/'"
   ]
  },
  {
   "cell_type": "code",
   "execution_count": null,
   "metadata": {},
   "outputs": [],
   "source": [
    "def get_files_in_dir(directory, return_dirs=False, verbose=False):\n",
    "    if not os.path.exists(directory):\n",
    "        raise Exception(f\"{directory} does not exist!\")\n",
    "    files, dirs = None, None\n",
    "    for (path, dirs, files) in os.walk(directory):\n",
    "        if verbose:\n",
    "            print(\"path: \", path)\n",
    "            print(\"dirs\", dirs)\n",
    "            print(\"files\")\n",
    "            for i, file in enumerate(files):\n",
    "                print(\"\\t\", i, file)\n",
    "        break\n",
    "    return files if not return_dirs else (files, dirs)"
   ]
  },
  {
   "cell_type": "code",
   "execution_count": null,
   "metadata": {},
   "outputs": [],
   "source": [
    "files = get_files_in_dir(data_dir)\n",
    "files = [f for f in files if '.gpx' in f[-4:]]\n",
    "files"
   ]
  },
  {
   "cell_type": "code",
   "execution_count": null,
   "metadata": {},
   "outputs": [],
   "source": [
    "stepkeys = ['.'.join(f.split('step_')[-1].split('.')[0].split('_')[:2]) for f in files]\n",
    "step2file = {\n",
    "    k: f for k,f in zip(stepkeys, files)\n",
    "}\n",
    "\n",
    "step2file"
   ]
  },
  {
   "cell_type": "code",
   "execution_count": null,
   "metadata": {},
   "outputs": [],
   "source": [
    "def load_gpx_file(file_path:str):\n",
    "    if not os.path.exists(file_path):\n",
    "        raise Exception(f\"{file_path} does not exist!\")\n",
    "    with open(file_path, 'r') as fo:\n",
    "        gpx_file = gpxpy.parse(fo)\n",
    "    return gpx_file"
   ]
  },
  {
   "cell_type": "code",
   "execution_count": null,
   "metadata": {},
   "outputs": [],
   "source": [
    "sk = '0.1'\n",
    "gpx_f = load_gpx_file(data_dir + step2file[sk])\n",
    "gpx_f"
   ]
  },
  {
   "cell_type": "code",
   "execution_count": null,
   "metadata": {},
   "outputs": [],
   "source": [
    "\n",
    "import cartopy.crs as ccrs\n",
    "import matplotlib.pyplot as plt\n",
    "\n",
    "ax = plt.axes(projection=ccrs.EuroPP())\n",
    "ax.stock_img()\n",
    "plt.show()\n"
   ]
  },
  {
   "cell_type": "code",
   "execution_count": null,
   "metadata": {},
   "outputs": [],
   "source": [
    "ax = plt.axes(projection=ccrs.PlateCarree())\n",
    "ax.coastlines()\n",
    "\n",
    "plt.show()"
   ]
  },
  {
   "cell_type": "code",
   "execution_count": null,
   "metadata": {},
   "outputs": [],
   "source": []
  }
 ],
 "metadata": {
  "kernelspec": {
   "display_name": "Python 3.9.0 64-bit ('hateless_bikemore-3.9.0')",
   "language": "python",
   "name": "python3"
  },
  "language_info": {
   "codemirror_mode": {
    "name": "ipython",
    "version": 3
   },
   "file_extension": ".py",
   "mimetype": "text/x-python",
   "name": "python",
   "nbconvert_exporter": "python",
   "pygments_lexer": "ipython3",
   "version": "3.9.0"
  },
  "orig_nbformat": 4,
  "vscode": {
   "interpreter": {
    "hash": "3355873eeda116eb7c315d89b5b16c42215e1a472cede6b7661e86e824ba89bd"
   }
  }
 },
 "nbformat": 4,
 "nbformat_minor": 2
}
